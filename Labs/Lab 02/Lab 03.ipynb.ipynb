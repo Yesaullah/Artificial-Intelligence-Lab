{
  "cells": [
    {
      "cell_type": "markdown",
      "metadata": {
        "id": "ZxPxaxIVyyHW"
      },
      "source": [
        "# **TASK 1:**"
      ]
    },
    {
      "cell_type": "markdown",
      "metadata": {},
      "source": [
        "#### Depth First Search"
      ]
    },
    {
      "cell_type": "code",
      "execution_count": 32,
      "metadata": {},
      "outputs": [],
      "source": [
        "class Environment:\n",
        "  def __init__(self, graph):\n",
        "    self.graph = graph\n",
        "\n",
        "  def getPercept(self, node):\n",
        "    return node\n",
        "\n",
        "  def dfs(self, node, goal):\n",
        "    visited = []\n",
        "    stack = []\n",
        "\n",
        "    visited.append(node)\n",
        "    stack.append(node)\n",
        "\n",
        "    while stack:\n",
        "      node = stack.pop()\n",
        "      print(f\"Visiting: {node}\")\n",
        "\n",
        "      if node == goal:\n",
        "        return f\"Goal {goal} found!\"\n",
        "\n",
        "      for neighbor in reversed(self.graph.get(node, [])):\n",
        "        if neighbor not in visited:\n",
        "          visited.append(neighbor)\n",
        "          stack.append(neighbor)\n",
        "\n",
        "    return f\"Goal {goal} not found!\"\n"
      ]
    },
    {
      "cell_type": "code",
      "execution_count": 33,
      "metadata": {
        "colab": {
          "base_uri": "https://localhost:8080/"
        },
        "id": "NvDJcAQBy4TY",
        "outputId": "0f34069c-8e19-4093-b148-4db23d5ceea6"
      },
      "outputs": [],
      "source": [
        "class GoalBasedAgent:\n",
        "  def __init__(self, goal):\n",
        "    self.goal = goal\n",
        "\n",
        "  def formulateGoal(self, percept):\n",
        "    if percept == self.goal:\n",
        "      return \"Goal Reached\"\n",
        "    else:\n",
        "      return \"Searching\"\n",
        "\n",
        "  def act(self, percept, environment):\n",
        "    goal_status = self.formulateGoal(percept)\n",
        "    if goal_status == \"Goal Reached\":\n",
        "      return f\"Goal {self.goal} found!\"\n",
        "    else:\n",
        "      return environment.dfs(percept, self.goal)"
      ]
    },
    {
      "cell_type": "code",
      "execution_count": 34,
      "metadata": {},
      "outputs": [],
      "source": [
        "def run_agent(agent, environment, start_node):\n",
        "  percept = environment.getPercept(start_node)\n",
        "  action = agent.act(percept, environment)\n",
        "  print(action)\n"
      ]
    },
    {
      "cell_type": "code",
      "execution_count": 35,
      "metadata": {},
      "outputs": [
        {
          "name": "stdout",
          "output_type": "stream",
          "text": [
            "Visiting: A\n",
            "Visiting: B\n",
            "Visiting: D\n",
            "Visiting: E\n",
            "Goal E found!\n"
          ]
        }
      ],
      "source": [
        "tree = {\n",
        "    'A' : ['B','C'],\n",
        "    'B' : ['D', 'E'],\n",
        "    'C' : ['F', 'G'],\n",
        "    'D' : [],\n",
        "    'E' : [],\n",
        "    'F' : [],\n",
        "    'G' : []\n",
        "}\n",
        "\n",
        "start_node = 'A'\n",
        "goal = 'E'\n",
        "\n",
        "agent = GoalBasedAgent(goal)\n",
        "environment = Environment(tree)\n",
        "\n",
        "run_agent(agent, environment, start_node)"
      ]
    },
    {
      "cell_type": "markdown",
      "metadata": {
        "id": "PP4hOszR5ZAJ"
      },
      "source": [
        "#### Depth Limit Search:"
      ]
    },
    {
      "cell_type": "code",
      "execution_count": 36,
      "metadata": {},
      "outputs": [],
      "source": [
        "class Environment:\n",
        "  def __init__(self, graph):\n",
        "    self.graph = graph\n",
        "\n",
        "  def getPercept(self, node):\n",
        "    return node\n",
        "\n",
        "  def dls(self, node, goal, depth_limit):\n",
        "    visited = []\n",
        "\n",
        "    def dfs(node, depth):\n",
        "      if depth > depth_limit:\n",
        "        return None\n",
        "\n",
        "      else:\n",
        "        visited.append(node)\n",
        "        print(f\"Visiting: {node}\")\n",
        "\n",
        "        if node == goal:\n",
        "          return f\"Goal {goal} found!\"\n",
        "\n",
        "        for neighbor in self.graph.get(node, []):\n",
        "          if neighbor not in visited:\n",
        "            path = dfs(neighbor, depth + 1)\n",
        "            if path:\n",
        "              return path\n",
        "\n",
        "        visited.pop()\n",
        "        return None\n",
        "\n",
        "    return dfs(node, 0)"
      ]
    },
    {
      "cell_type": "code",
      "execution_count": 37,
      "metadata": {
        "colab": {
          "base_uri": "https://localhost:8080/"
        },
        "id": "U2cQpLxk5eWm",
        "outputId": "48e197e5-b480-4ada-9c33-e88ade59183c"
      },
      "outputs": [],
      "source": [
        "class GoalBasedAgent:\n",
        "  def __init__(self, goal, depth_limit):\n",
        "    self.goal = goal\n",
        "    self.depth_limit = depth_limit\n",
        "\n",
        "  def formulateGoal(self, percept):\n",
        "    if percept == self.goal:\n",
        "      return \"Goal Reached\"\n",
        "    else:\n",
        "      return \"Searching\"\n",
        "\n",
        "  def act(self, percept, environment):\n",
        "    goal_status = self.formulateGoal(percept)\n",
        "    if goal_status == \"Goal Reached\":\n",
        "      return f\"Goal {self.goal} found!\"\n",
        "    else:\n",
        "      return environment.dls(percept, self.goal, self.depth_limit)"
      ]
    },
    {
      "cell_type": "code",
      "execution_count": 38,
      "metadata": {},
      "outputs": [],
      "source": [
        "def run_agent(agent, environment, start):\n",
        "  percept = environment.getPercept(start)\n",
        "  action = agent.act(percept, environment)\n",
        "  print(action)"
      ]
    },
    {
      "cell_type": "code",
      "execution_count": 39,
      "metadata": {},
      "outputs": [
        {
          "name": "stdout",
          "output_type": "stream",
          "text": [
            "Visiting: A\n",
            "Visiting: B\n",
            "Visiting: D\n",
            "Visiting: E\n",
            "Goal E found!\n"
          ]
        }
      ],
      "source": [
        "tree = {\n",
        "    'A' : ['B','C'],\n",
        "    'B' : ['D', 'E'],\n",
        "    'C' : ['F', 'G'],\n",
        "    'D' : [],\n",
        "    'E' : [],\n",
        "    'F' : [],\n",
        "    'G' : []\n",
        "}\n",
        "\n",
        "start_node = 'A'\n",
        "goal = 'E'\n",
        "\n",
        "agent = GoalBasedAgent(goal, depth_limit=3)\n",
        "environment = Environment(tree)\n",
        "\n",
        "run_agent(agent, environment, start_node)"
      ]
    },
    {
      "cell_type": "markdown",
      "metadata": {
        "id": "IutzT-289DO1"
      },
      "source": [
        "#### Uniform Cost Search:"
      ]
    },
    {
      "cell_type": "code",
      "execution_count": 40,
      "metadata": {
        "colab": {
          "base_uri": "https://localhost:8080/"
        },
        "id": "dTwUPIUI9Ine",
        "outputId": "221f9877-e11d-487c-9605-b74f20566d9f"
      },
      "outputs": [],
      "source": [
        "import heapq\n",
        "\n",
        "class Environment:\n",
        "    def __init__(self, graph):\n",
        "        self.graph = graph\n",
        "\n",
        "    def get_neighbors(self, node):\n",
        "        return self.graph.get(node, [])"
      ]
    },
    {
      "cell_type": "code",
      "execution_count": 41,
      "metadata": {},
      "outputs": [],
      "source": [
        "\n",
        "class UCS_Agent:\n",
        "    def __init__(self, environment, start, goal):\n",
        "        self.env = environment\n",
        "        self.start = start\n",
        "        self.goal = goal\n",
        "\n",
        "    def utility_function(self, cost):\n",
        "        return -cost\n",
        "\n",
        "    def uniform_cost_search(self):\n",
        "        priority_queue = []\n",
        "        heapq.heappush(priority_queue, (0, self.start, []))\n",
        "        visited = set()\n",
        "\n",
        "        while priority_queue:\n",
        "            cost, node, path = heapq.heappop(priority_queue)\n",
        "\n",
        "            if node in visited:\n",
        "                continue\n",
        "            visited.add(node)\n",
        "            path = path + [node]\n",
        "\n",
        "            if node == self.goal:\n",
        "                return path, cost\n",
        "\n",
        "            for neighbor, step_cost in self.env.get_neighbors(node):\n",
        "                if neighbor not in visited:\n",
        "                    heapq.heappush(priority_queue, (cost + step_cost, neighbor, path))\n",
        "\n",
        "        return None, float('inf')"
      ]
    },
    {
      "cell_type": "code",
      "execution_count": 42,
      "metadata": {},
      "outputs": [],
      "source": [
        "\n",
        "def run_agent(graph, start, goal):\n",
        "    \"\"\" Runs the UCS agent in the given environment. \"\"\"\n",
        "    env = Environment(graph)\n",
        "    agent = UCS_Agent(env, start, goal)\n",
        "    path, cost = agent.uniform_cost_search()\n",
        "\n",
        "    if path:\n",
        "        print(f\"Optimal Path: {path}, Total Cost: {cost}\")\n",
        "    else:\n",
        "        print(\"No path found.\")"
      ]
    },
    {
      "cell_type": "code",
      "execution_count": 43,
      "metadata": {},
      "outputs": [
        {
          "name": "stdout",
          "output_type": "stream",
          "text": [
            "Optimal Path: ['A', 'B', 'C', 'D'], Total Cost: 4\n"
          ]
        }
      ],
      "source": [
        "graph = {\n",
        "    'A': [('B', 1), ('C', 4)],\n",
        "    'B': [('C', 2), ('D', 5)],\n",
        "    'C': [('D', 1)],\n",
        "    'D': []\n",
        "}\n",
        "\n",
        "run_agent(graph, 'A', 'D')"
      ]
    },
    {
      "cell_type": "markdown",
      "metadata": {
        "id": "ZVPYqe9XKoi2"
      },
      "source": [
        "# **TASK 2:**"
      ]
    },
    {
      "cell_type": "code",
      "execution_count": 44,
      "metadata": {
        "colab": {
          "base_uri": "https://localhost:8080/"
        },
        "id": "_X3l8lMRKrcQ",
        "outputId": "f68ee048-a552-4c81-d7fd-117399c62dcd"
      },
      "outputs": [
        {
          "name": "stdout",
          "output_type": "stream",
          "text": [
            "Optimal TSP Path: [1, 2, 3, 4, 1], Total Cost: 80\n"
          ]
        }
      ],
      "source": [
        "def ucs_tsp(graph, start):\n",
        "    num_cities = len(graph)\n",
        "    initial_state = (start, frozenset([start]), 0)\n",
        "    priority_queue = [(0, initial_state)]\n",
        "    best_cost = float('inf')\n",
        "    best_path = []\n",
        "\n",
        "    while priority_queue:\n",
        "        cost, (current_city, visited, path_cost) = heapq.heappop(priority_queue)\n",
        "\n",
        "        if len(visited) == num_cities and start in graph[current_city]:\n",
        "            total_cost = path_cost + graph[current_city][start]\n",
        "            if total_cost < best_cost:\n",
        "                best_cost = total_cost\n",
        "                best_path = list(visited) + [start]\n",
        "\n",
        "\n",
        "        for neighbor, travel_cost in graph[current_city].items():\n",
        "            if neighbor not in visited:\n",
        "                new_visited = visited | frozenset([neighbor])\n",
        "                new_cost = path_cost + travel_cost\n",
        "                heapq.heappush(priority_queue, (new_cost, (neighbor, new_visited, new_cost)))\n",
        "\n",
        "    return best_path, best_cost\n",
        "\n",
        "graph = {\n",
        "    1: {2: 10, 3: 15, 4: 20},\n",
        "    2: {1: 10, 3: 35, 4: 25},\n",
        "    3: {1: 15, 2: 35, 4: 30},\n",
        "    4: {1: 20, 2: 25, 3: 30}\n",
        "}\n",
        "\n",
        "optimal_path, optimal_cost = ucs_tsp(graph, 1)\n",
        "print(f\"Optimal TSP Path: {optimal_path}, Total Cost: {optimal_cost}\")\n"
      ]
    },
    {
      "cell_type": "markdown",
      "metadata": {
        "id": "k9thCYYwXuv9"
      },
      "source": [
        "# **TASK 3:**"
      ]
    },
    {
      "cell_type": "markdown",
      "metadata": {
        "id": "80Zt7nDjX9J1"
      },
      "source": [
        "#### Iterative Deepening Depth First Search:"
      ]
    },
    {
      "cell_type": "code",
      "execution_count": 45,
      "metadata": {
        "colab": {
          "base_uri": "https://localhost:8080/"
        },
        "id": "CI8FaskQYGQt",
        "outputId": "fa5eb8b0-2641-45fb-e268-19c6c42be812"
      },
      "outputs": [
        {
          "name": "stdout",
          "output_type": "stream",
          "text": [
            "IDDFS Path: [1, 3, 7]\n"
          ]
        }
      ],
      "source": [
        "def dls(graph, node, goal, depth, path):\n",
        "    path.append(node)\n",
        "\n",
        "    if node == goal:\n",
        "        return path\n",
        "\n",
        "    if depth == 0:\n",
        "        path.pop()\n",
        "        return None\n",
        "\n",
        "    for neighbor in graph.get(node, []):\n",
        "        if neighbor not in path:\n",
        "            result = dls(graph, neighbor, goal, depth - 1, path)\n",
        "            if result:\n",
        "                return result\n",
        "\n",
        "    path.pop()\n",
        "    return None\n",
        "\n",
        "def iddfs(graph, start, goal, max_depth=10):\n",
        "    \"\"\" Iterative Deepening DFS \"\"\"\n",
        "    for depth in range(max_depth):\n",
        "        path = []\n",
        "        result = dls(graph, start, goal, depth, path)\n",
        "        if result:\n",
        "            return result\n",
        "    return None\n",
        "\n",
        "\n",
        "graph = {\n",
        "    1: [2, 3, 4],\n",
        "    2: [5, 6],\n",
        "    3: [7],\n",
        "    4: [8, 9],\n",
        "    5: [], 6: [], 7: [], 8: [], 9: []\n",
        "}\n",
        "\n",
        "start, goal = 1, 7\n",
        "path = iddfs(graph, start, goal)\n",
        "print(f\"IDDFS Path: {path}\")\n"
      ]
    },
    {
      "cell_type": "markdown",
      "metadata": {
        "id": "Xi11AYoJYTYS"
      },
      "source": [
        "#### Bidirectional Search:"
      ]
    },
    {
      "cell_type": "code",
      "execution_count": 46,
      "metadata": {
        "colab": {
          "base_uri": "https://localhost:8080/"
        },
        "id": "GvlIteLsYXay",
        "outputId": "3386bf83-876f-4f43-ea16-6deb9c09044f"
      },
      "outputs": [
        {
          "name": "stdout",
          "output_type": "stream",
          "text": [
            "Bidirectional Search Path: [1, 3, 7]\n"
          ]
        }
      ],
      "source": [
        "from collections import deque\n",
        "\n",
        "def bidirectional_search(graph, start, goal):\n",
        "    if start == goal:\n",
        "        return [start]\n",
        "\n",
        "    front_start = deque([start])\n",
        "    front_goal = deque([goal])\n",
        "\n",
        "    parents_start = {start: None}\n",
        "    parents_goal = {goal: None}\n",
        "\n",
        "    while front_start and front_goal:\n",
        "        meeting_node = bfs_step(graph, front_start, parents_start, parents_goal)\n",
        "        if meeting_node:\n",
        "            return reconstruct_path(meeting_node, parents_start, parents_goal)\n",
        "\n",
        "        meeting_node = bfs_step(graph, front_goal, parents_goal, parents_start)\n",
        "        if meeting_node:\n",
        "            return reconstruct_path(meeting_node, parents_start, parents_goal)\n",
        "\n",
        "    return None\n",
        "\n",
        "def bfs_step(graph, frontier, this_parents, other_parents):\n",
        "    for _ in range(len(frontier)):\n",
        "        current_node = frontier.popleft()\n",
        "\n",
        "        for neighbor in graph.get(current_node, []):\n",
        "            if neighbor not in this_parents:\n",
        "                this_parents[neighbor] = current_node\n",
        "                frontier.append(neighbor)\n",
        "\n",
        "                if neighbor in other_parents:\n",
        "                    return neighbor\n",
        "    return None\n",
        "\n",
        "\n",
        "def reconstruct_path(meeting_node, parents_start, parents_goal):\n",
        "    path_start = []\n",
        "    node = meeting_node\n",
        "    while node is not None:\n",
        "        path_start.append(node)\n",
        "        node = parents_start[node]\n",
        "    path_start.reverse()\n",
        "\n",
        "    path_goal = []\n",
        "    node = parents_goal[meeting_node]\n",
        "    while node is not None:\n",
        "        path_goal.append(node)\n",
        "        node = parents_goal[node]\n",
        "\n",
        "    return path_start + path_goal\n",
        "\n",
        "graph = {\n",
        "    1: [2, 3, 4],\n",
        "    2: [1, 5, 6],\n",
        "    3: [1, 7],\n",
        "    4: [1, 8, 9],\n",
        "    5: [2], 6: [2], 7: [3], 8: [4], 9: [4]\n",
        "}\n",
        "\n",
        "start, goal = 1, 7\n",
        "path = bidirectional_search(graph, start, goal)\n",
        "print(f\"Bidirectional Search Path: {path}\")\n"
      ]
    }
  ],
  "metadata": {
    "colab": {
      "provenance": []
    },
    "kernelspec": {
      "display_name": "Python 3",
      "name": "python3"
    },
    "language_info": {
      "codemirror_mode": {
        "name": "ipython",
        "version": 3
      },
      "file_extension": ".py",
      "mimetype": "text/x-python",
      "name": "python",
      "nbconvert_exporter": "python",
      "pygments_lexer": "ipython3",
      "version": "3.13.0"
    }
  },
  "nbformat": 4,
  "nbformat_minor": 0
}
