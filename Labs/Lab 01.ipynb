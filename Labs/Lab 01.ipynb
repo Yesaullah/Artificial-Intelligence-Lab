{
 "cells": [
  {
   "cell_type": "markdown",
   "metadata": {},
   "source": [
    "# **Task 1:**"
   ]
  },
  {
   "cell_type": "code",
   "execution_count": 787,
   "metadata": {},
   "outputs": [],
   "source": [
    "import random"
   ]
  },
  {
   "cell_type": "code",
   "execution_count": 788,
   "metadata": {},
   "outputs": [],
   "source": [
    "class Environment:\n",
    "    # constructor which initializes a dictionary representing the states of the system components\n",
    "    def __init__(self):\n",
    "        self.components = ['A', 'B', 'C', 'D', 'E', 'F', 'G', 'H', 'I']\n",
    "        self.system_state = {component: random.choice(['safe', 'vulnerable']) for component in self.components}\n",
    "    # function to display the current state of the system components\n",
    "    def display_states(self):\n",
    "        print(\"Current State Of The System: \")\n",
    "        for component, state in self.system_state.items():\n",
    "            print(f\"Component {component} is {state}.\")\n",
    "    # fucntion to filter out the components which are vulnerable\n",
    "    def get_vulnerabilities(self):\n",
    "        return [component for component, state in self.system_state.items() if state == 'vulnerable']\n",
    "    # function to patch any component if it is vulnerable and make it safe\n",
    "    def patch_component(self, component):\n",
    "        if (self.system_state[component] == 'vulnerable'):\n",
    "            self.system_state[component] = 'safe'\n",
    "            print(f\"Component {component} Has Been Patched.\")"
   ]
  },
  {
   "cell_type": "code",
   "execution_count": 789,
   "metadata": {},
   "outputs": [],
   "source": [
    "class Agent:\n",
    "    def __init__(self, environment):\n",
    "        self.environment = environment\n",
    "    def scan_system(self):\n",
    "        vulnerable_components = self.environment.get_vulnerabilities()\n",
    "        for component, state in self.environment.system_state.items():\n",
    "            if (state == 'safe'):\n",
    "                print(f\"Component {component} Is Safe.\")\n",
    "                continue\n",
    "            if(state == 'vulnerable'):\n",
    "                print(f\"WANRING: Component {component} Is Vulnerable!\")\n",
    "        return vulnerable_components\n",
    "    def patch_vulnerabilities(self, vulnerable_components):\n",
    "        for component in vulnerable_components:\n",
    "            self.environment.patch_component(component)"
   ]
  },
  {
   "cell_type": "code",
   "execution_count": 790,
   "metadata": {},
   "outputs": [],
   "source": [
    "# initializinig the class objects\n",
    "environment = Environment()\n",
    "agent = Agent(environment)"
   ]
  },
  {
   "cell_type": "code",
   "execution_count": 791,
   "metadata": {},
   "outputs": [
    {
     "name": "stdout",
     "output_type": "stream",
     "text": [
      "Current State Of The System: \n",
      "Component A is vulnerable.\n",
      "Component B is safe.\n",
      "Component C is vulnerable.\n",
      "Component D is safe.\n",
      "Component E is safe.\n",
      "Component F is vulnerable.\n",
      "Component G is safe.\n",
      "Component H is safe.\n",
      "Component I is vulnerable.\n"
     ]
    }
   ],
   "source": [
    "environment.display_states()"
   ]
  },
  {
   "cell_type": "code",
   "execution_count": 792,
   "metadata": {},
   "outputs": [
    {
     "name": "stdout",
     "output_type": "stream",
     "text": [
      "Scanning The System: \n",
      "WANRING: Component A Is Vulnerable!\n",
      "Component B Is Safe.\n",
      "WANRING: Component C Is Vulnerable!\n",
      "Component D Is Safe.\n",
      "Component E Is Safe.\n",
      "WANRING: Component F Is Vulnerable!\n",
      "Component G Is Safe.\n",
      "Component H Is Safe.\n",
      "WANRING: Component I Is Vulnerable!\n"
     ]
    }
   ],
   "source": [
    "print(\"Scanning The System: \")\n",
    "vulnerable_components = agent.scan_system()"
   ]
  },
  {
   "cell_type": "code",
   "execution_count": 793,
   "metadata": {},
   "outputs": [
    {
     "name": "stdout",
     "output_type": "stream",
     "text": [
      "Component A Has Been Patched.\n",
      "Component C Has Been Patched.\n",
      "Component F Has Been Patched.\n",
      "Component I Has Been Patched.\n"
     ]
    }
   ],
   "source": [
    "agent.patch_vulnerabilities(vulnerable_components)"
   ]
  },
  {
   "cell_type": "code",
   "execution_count": 794,
   "metadata": {},
   "outputs": [
    {
     "name": "stdout",
     "output_type": "stream",
     "text": [
      "Current State Of The System: \n",
      "Component A is safe.\n",
      "Component B is safe.\n",
      "Component C is safe.\n",
      "Component D is safe.\n",
      "Component E is safe.\n",
      "Component F is safe.\n",
      "Component G is safe.\n",
      "Component H is safe.\n",
      "Component I is safe.\n"
     ]
    }
   ],
   "source": [
    "environment.display_states()"
   ]
  },
  {
   "cell_type": "markdown",
   "metadata": {},
   "source": [
    "# **Task 2:**"
   ]
  },
  {
   "cell_type": "code",
   "execution_count": 795,
   "metadata": {},
   "outputs": [],
   "source": [
    "class Environment:\n",
    "    def __init__(self):\n",
    "        self.serversList = [random.choice(['Underloaded', 'Overloaded', 'Balanced']) for _ in range(5)]\n",
    "    def get_percept(self, pos):\n",
    "        return self.serversList[pos]\n",
    "    def ChangeState(self, pos):\n",
    "        self.serversList[pos] = 'Balanced'\n",
    "    def displayServers(self):\n",
    "        print(\"Current State Of Servers: \")\n",
    "        for position in range(len(self.serversList)):\n",
    "            print(f\"Server {position}: {self.serversList[position]}\")\n"
   ]
  },
  {
   "cell_type": "code",
   "execution_count": 796,
   "metadata": {},
   "outputs": [],
   "source": [
    "class Agent:\n",
    "    def __init__(self, environment):\n",
    "        self.env = environment\n",
    "        self.overloaded = []\n",
    "        self.underloaded = []\n",
    "        self.position = 0\n",
    "    def scan(self):\n",
    "        while self.position < 5:\n",
    "            percept = self.env.get_percept(self.position)\n",
    "            if(percept == 'Overloaded'):\n",
    "                self.overloaded.append(self.position)\n",
    "            if(percept == \"Underloaded\"):\n",
    "                self.underloaded.append(self.position)\n",
    "            self.position += 1\n",
    "        print(\"Scanning Completed!\")\n",
    "    def balance_servers(self):\n",
    "        if(not self.underloaded):\n",
    "            print(\"No Underloaded Servers Found!\")\n",
    "        elif(not self.overloaded):\n",
    "            print(\"No Overloaded Servers Found!\")\n",
    "        else:\n",
    "            print(\"Balancing Servers!\")\n",
    "            for server in self.overloaded:\n",
    "                self.env.ChangeState(server)\n",
    "            for server in self.underloaded:\n",
    "                self.env.ChangeState(server)\n",
    "    \n"
   ]
  },
  {
   "cell_type": "code",
   "execution_count": 797,
   "metadata": {},
   "outputs": [],
   "source": [
    "environment = Environment()\n",
    "agent = Agent(environment)"
   ]
  },
  {
   "cell_type": "code",
   "execution_count": 798,
   "metadata": {},
   "outputs": [
    {
     "name": "stdout",
     "output_type": "stream",
     "text": [
      "Current State Of Servers: \n",
      "Server 0: Underloaded\n",
      "Server 1: Overloaded\n",
      "Server 2: Overloaded\n",
      "Server 3: Overloaded\n",
      "Server 4: Overloaded\n"
     ]
    }
   ],
   "source": [
    "environment.displayServers()"
   ]
  },
  {
   "cell_type": "code",
   "execution_count": 799,
   "metadata": {},
   "outputs": [
    {
     "name": "stdout",
     "output_type": "stream",
     "text": [
      "Scanning Completed!\n"
     ]
    }
   ],
   "source": [
    "agent.scan()"
   ]
  },
  {
   "cell_type": "code",
   "execution_count": 800,
   "metadata": {},
   "outputs": [
    {
     "name": "stdout",
     "output_type": "stream",
     "text": [
      "Balancing Servers!\n"
     ]
    }
   ],
   "source": [
    "agent.balance_servers()"
   ]
  },
  {
   "cell_type": "code",
   "execution_count": 801,
   "metadata": {},
   "outputs": [
    {
     "name": "stdout",
     "output_type": "stream",
     "text": [
      "Current State Of Servers: \n",
      "Server 0: Balanced\n",
      "Server 1: Balanced\n",
      "Server 2: Balanced\n",
      "Server 3: Balanced\n",
      "Server 4: Balanced\n"
     ]
    }
   ],
   "source": [
    "environment.displayServers()"
   ]
  },
  {
   "cell_type": "markdown",
   "metadata": {},
   "source": [
    "# **Task 3:**"
   ]
  },
  {
   "cell_type": "code",
   "execution_count": 802,
   "metadata": {},
   "outputs": [],
   "source": [
    "class Environment:\n",
    "    def __init__(self):\n",
    "        self.num = random.randint(1, 10)\n",
    "        self.tasks = [random.choice(['Completed', 'Failed']) for _ in range(self.num)]\n",
    "    def display_tasks(self):\n",
    "        print(\"Current System Status: \")    \n",
    "        for i in range(self.num):\n",
    "            print(f\"Task {i+1}: {self.tasks[i]}\")\n",
    "    def retryBackup(self, pos):\n",
    "        self.tasks[pos] = random.choice(['Completed', 'Failed'])"
   ]
  },
  {
   "cell_type": "code",
   "execution_count": 803,
   "metadata": {},
   "outputs": [],
   "source": [
    "class Agent:\n",
    "    def __init__(self, environment):\n",
    "        self.env = environment\n",
    "    def scan(self):\n",
    "        print(\"\\nScanning for failed backups!\\n\")\n",
    "        for pos in range(len(self.env.tasks)):\n",
    "            if(self.env.tasks[pos] == 'Failed'):\n",
    "                self.env.retryBackup(pos)\n",
    "            else:\n",
    "                continue"
   ]
  },
  {
   "cell_type": "code",
   "execution_count": 804,
   "metadata": {},
   "outputs": [],
   "source": [
    "def runAgent(agent, env):\n",
    "    print(\"Initial state of the backups: \")\n",
    "    env.display_tasks()\n",
    "    agent.scan()\n",
    "    env.display_tasks()"
   ]
  },
  {
   "cell_type": "code",
   "execution_count": 805,
   "metadata": {},
   "outputs": [
    {
     "name": "stdout",
     "output_type": "stream",
     "text": [
      "Initial state of the backups: \n",
      "Current System Status: \n",
      "Task 1: Failed\n",
      "Task 2: Completed\n",
      "Task 3: Completed\n",
      "Task 4: Failed\n",
      "Task 5: Completed\n",
      "Task 6: Completed\n",
      "Task 7: Completed\n",
      "\n",
      "Scanning for failed backups!\n",
      "\n",
      "Current System Status: \n",
      "Task 1: Completed\n",
      "Task 2: Completed\n",
      "Task 3: Completed\n",
      "Task 4: Failed\n",
      "Task 5: Completed\n",
      "Task 6: Completed\n",
      "Task 7: Completed\n"
     ]
    }
   ],
   "source": [
    "env = Environment()\n",
    "agent = Agent(env)\n",
    "\n",
    "runAgent(agent, env)"
   ]
  },
  {
   "cell_type": "markdown",
   "metadata": {},
   "source": [
    "# **Task 4:**"
   ]
  },
  {
   "cell_type": "code",
   "execution_count": 806,
   "metadata": {},
   "outputs": [],
   "source": [
    "class Environment:\n",
    "    def __init__(self):\n",
    "        self.components = ['A', 'B', 'C', 'D', 'E', 'F', 'G', 'H', 'I']\n",
    "        self.system_states = {component: random.choice(['Safe', 'Low Risk Vulnerable', 'High Risk Vulnerable']) for component in self.components}\n",
    "    def display_components(self):\n",
    "        for component, state in self.system_states.items():\n",
    "            print(f\"Component {component} is {state}.\")\n",
    "    def patch_vulnerabilities(self, component):\n",
    "        if(self.system_states[component] == 'Low Risk Vulnerable'):\n",
    "            self.system_states[component] = 'Safe'\n",
    "            print(f\"Component {component} Successfully Patched!\")\n",
    "        else:\n",
    "            print(f\"Component {component} is at High Risk Vulnerability (Premium Servive Required)\")"
   ]
  },
  {
   "cell_type": "code",
   "execution_count": 807,
   "metadata": {},
   "outputs": [],
   "source": [
    "class Agent:\n",
    "    def __init__(self, environment):\n",
    "        self.env = environment\n",
    "        self.vulnerable_components = []\n",
    "    def scan(self):\n",
    "        for component, state in self.env.system_states.items():\n",
    "            if(state == 'Safe'):\n",
    "                print(f\"SUCCESS: Compnent {component} is Safe!\")\n",
    "            else:\n",
    "                self.vulnerable_components.append(component)\n",
    "                print(f\"WARNING: Component {component} is at risk!\")\n",
    "    def patch_vulnerabilities(self):\n",
    "        print(\"Patching Vulnerabilities: \")\n",
    "        for component in self.vulnerable_components:\n",
    "            self.env.patch_vulnerabilities(component)"
   ]
  },
  {
   "cell_type": "code",
   "execution_count": 808,
   "metadata": {},
   "outputs": [],
   "source": [
    "def runAgent(agent, env):\n",
    "    print(\"Current State Of The System: \")\n",
    "    env.display_components()\n",
    "    print(\"\\n\")\n",
    "    agent.scan()\n",
    "    print(\"\\n\")\n",
    "    agent.patch_vulnerabilities()\n",
    "    print(\"\\n\")\n",
    "    print(\"Current State Of The System: \")\n",
    "    env.display_components()"
   ]
  },
  {
   "cell_type": "code",
   "execution_count": 809,
   "metadata": {},
   "outputs": [
    {
     "name": "stdout",
     "output_type": "stream",
     "text": [
      "Current State Of The System: \n",
      "Component A is Low Risk Vulnerable.\n",
      "Component B is Low Risk Vulnerable.\n",
      "Component C is High Risk Vulnerable.\n",
      "Component D is Low Risk Vulnerable.\n",
      "Component E is Safe.\n",
      "Component F is High Risk Vulnerable.\n",
      "Component G is Low Risk Vulnerable.\n",
      "Component H is Low Risk Vulnerable.\n",
      "Component I is Safe.\n",
      "\n",
      "\n",
      "WARNING: Component A is at risk!\n",
      "WARNING: Component B is at risk!\n",
      "WARNING: Component C is at risk!\n",
      "WARNING: Component D is at risk!\n",
      "SUCCESS: Compnent E is Safe!\n",
      "WARNING: Component F is at risk!\n",
      "WARNING: Component G is at risk!\n",
      "WARNING: Component H is at risk!\n",
      "SUCCESS: Compnent I is Safe!\n",
      "\n",
      "\n",
      "Patching Vulnerabilities: \n",
      "Component A Successfully Patched!\n",
      "Component B Successfully Patched!\n",
      "Component C is at High Risk Vulnerability (Premium Servive Required)\n",
      "Component D Successfully Patched!\n",
      "Component F is at High Risk Vulnerability (Premium Servive Required)\n",
      "Component G Successfully Patched!\n",
      "Component H Successfully Patched!\n",
      "\n",
      "\n",
      "Current State Of The System: \n",
      "Component A is Safe.\n",
      "Component B is Safe.\n",
      "Component C is High Risk Vulnerable.\n",
      "Component D is Safe.\n",
      "Component E is Safe.\n",
      "Component F is High Risk Vulnerable.\n",
      "Component G is Safe.\n",
      "Component H is Safe.\n",
      "Component I is Safe.\n"
     ]
    }
   ],
   "source": [
    "env = Environment()\n",
    "agent = Agent(env)\n",
    "\n",
    "runAgent(agent, env)"
   ]
  },
  {
   "cell_type": "markdown",
   "metadata": {},
   "source": [
    "# **Task 5:**"
   ]
  },
  {
   "cell_type": "code",
   "execution_count": 810,
   "metadata": {},
   "outputs": [],
   "source": [
    "class Environment:\n",
    "    def __init__(self):\n",
    "        self.hospital_layout = {\n",
    "            \"Storage\": \"Available\",\n",
    "            \"Room 1\": None,\n",
    "            \"Room 2\": None,\n",
    "            \"Nurse Station\": \"Present\"\n",
    "        }\n",
    "        self.patient_schedules = {\"Room 1\":\"Medicine A\", \"Room 2\":\"Medicine B\"} \n",
    "\n",
    "    def get_percept(self, pos):\n",
    "        return self.hospital_layout.get(pos, None)\n",
    "    def update(self, pos, status):\n",
    "        self.hospital_layout[pos] = status"
   ]
  },
  {
   "cell_type": "code",
   "execution_count": 811,
   "metadata": {},
   "outputs": [],
   "source": [
    "class Agent:\n",
    "    def __init__(self):\n",
    "        self.goal = \"Deliver Medicine\"\n",
    "        self.current_location = \"Storage\"\n",
    "        self.medicine = None\n",
    "    \n",
    "    def formulate_goal(self, percept):\n",
    "        if(percept == \"Available\"):\n",
    "            self.goal = \"Collect Medicine\"\n",
    "        elif(percept in ['Medicine A', 'Medicine B']):\n",
    "            self.goal = \"Deliver Medicine\"\n",
    "        elif(percept == None):\n",
    "            self.goal = \"Move to next location\"\n",
    "        else:\n",
    "            self.goal = \"Assist Nurses\"\n",
    "        \n",
    "    def act(self, percept, environment):\n",
    "        self.formulate_goal(percept)\n",
    "\n",
    "        if(self.goal == \"Collect Medicine\"):\n",
    "            self.medicine = \"Collected\"\n",
    "            environment.update(\"Storage\", \"Empty\")\n",
    "            return \"Medicine Collected\"\n",
    "        elif (self.goal == \"Deliver Medicine\" and self.medicine):\n",
    "            self.medicine = None\n",
    "            return f\"Delivered {percept} to patient\"\n",
    "        elif (self.goal ==\"Move to next location\"):\n",
    "            return \"Moving to next location\"\n",
    "        elif (self.goal == \"Assist Nurses\"):\n",
    "            return \"Ready to assist Nurses\"\n",
    "        return \"No Action Needed\""
   ]
  },
  {
   "cell_type": "code",
   "execution_count": 812,
   "metadata": {},
   "outputs": [],
   "source": [
    "def runAgent(agent, environment):\n",
    "    locations = [\"Storage\", \"Room 1\", \"Room 2\", \"Nurse Station\"]\n",
    "\n",
    "    for location in locations:\n",
    "        percept = environment.get_percept(location)\n",
    "        action = agent.act(percept, environment)\n",
    "        print(f\"Location: {location}, Percept: {percept}, Action: {action}\")\n"
   ]
  },
  {
   "cell_type": "code",
   "execution_count": 813,
   "metadata": {},
   "outputs": [
    {
     "name": "stdout",
     "output_type": "stream",
     "text": [
      "Location: Storage, Percept: Available, Action: Medicine Collected\n",
      "Location: Room 1, Percept: None, Action: Moving to next location\n",
      "Location: Room 2, Percept: None, Action: Moving to next location\n",
      "Location: Nurse Station, Percept: Present, Action: Ready to assist Nurses\n"
     ]
    }
   ],
   "source": [
    "agent = Agent()\n",
    "environment = Environment()\n",
    "\n",
    "runAgent(agent, environment)"
   ]
  },
  {
   "cell_type": "markdown",
   "metadata": {},
   "source": [
    "# **Task 6:**"
   ]
  },
  {
   "cell_type": "code",
   "execution_count": 814,
   "metadata": {},
   "outputs": [],
   "source": [
    "class Environment:\n",
    "    def __init__(self):\n",
    "        self.grid = {\n",
    "            \"a\":\"Safe\", \"b\":\"Safe\", \"c\":\"Fire\",\n",
    "            \"d\": \"Safe\", \"e\": \"Fire\", \"f\": \"Safe\",\n",
    "            \"g\": \"Safe\", \"h\": \"Safe\", \"j\": \"Fire\"\n",
    "        }\n",
    "    def get_percept(self, pos):\n",
    "        return self.grid[pos]\n",
    "    def update_status(self, pos):\n",
    "        self.grid[pos] = \"Safe\"\n",
    "    def display(self):\n",
    "        print(\"\\nCurrent Building Status:\")\n",
    "        for i, room in enumerate([\"a\", \"b\", \"c\", \"d\", \"e\", \"f\", \"g\", \"h\", \"j\"]):\n",
    "            symbol = \"🔥\" if self.grid[room] == \"Fire\" else \"✅\"\n",
    "            print(symbol, end=\"  \")\n",
    "            if (i + 1) % 3 == 0:\n",
    "                print()\n",
    "        print()"
   ]
  },
  {
   "cell_type": "code",
   "execution_count": 815,
   "metadata": {},
   "outputs": [],
   "source": [
    "class Agent:\n",
    "    def __init__(self):\n",
    "        self.current_pos = 0\n",
    "        self.path = [\"a\", \"b\", \"c\", \"d\", \"e\", \"f\", \"g\", \"h\", \"j\"]\n",
    "    def act(self, percept, env):\n",
    "        if(percept == \"Fire\"):\n",
    "            env.update_status(self.path[self.current_pos])\n",
    "            print(f\"Fire extinguished in room {self.path[self.current_pos]}\")\n",
    "    def move(self):\n",
    "        if (self.current_pos<len(self.path)-1):\n",
    "            self.current_pos += 1"
   ]
  },
  {
   "cell_type": "code",
   "execution_count": 816,
   "metadata": {},
   "outputs": [],
   "source": [
    "def runAgent(agent, env):\n",
    "    for _ in range(len(agent.path)):\n",
    "        room = agent.path[agent.current_pos]\n",
    "        percept = env.get_percept(room)\n",
    "        action = agent.act(percept, env)\n",
    "        print(f\"Room: {room}, Percept: {percept}, Action: {action}\")\n",
    "        env.display()\n",
    "        agent.move()"
   ]
  },
  {
   "cell_type": "code",
   "execution_count": 817,
   "metadata": {},
   "outputs": [
    {
     "name": "stdout",
     "output_type": "stream",
     "text": [
      "Room: a, Percept: Safe, Action: None\n",
      "\n",
      "Current Building Status:\n",
      "✅  ✅  🔥  \n",
      "✅  🔥  ✅  \n",
      "✅  ✅  🔥  \n",
      "\n",
      "Room: b, Percept: Safe, Action: None\n",
      "\n",
      "Current Building Status:\n",
      "✅  ✅  🔥  \n",
      "✅  🔥  ✅  \n",
      "✅  ✅  🔥  \n",
      "\n",
      "Fire extinguished in room c\n",
      "Room: c, Percept: Fire, Action: None\n",
      "\n",
      "Current Building Status:\n",
      "✅  ✅  ✅  \n",
      "✅  🔥  ✅  \n",
      "✅  ✅  🔥  \n",
      "\n",
      "Room: d, Percept: Safe, Action: None\n",
      "\n",
      "Current Building Status:\n",
      "✅  ✅  ✅  \n",
      "✅  🔥  ✅  \n",
      "✅  ✅  🔥  \n",
      "\n",
      "Fire extinguished in room e\n",
      "Room: e, Percept: Fire, Action: None\n",
      "\n",
      "Current Building Status:\n",
      "✅  ✅  ✅  \n",
      "✅  ✅  ✅  \n",
      "✅  ✅  🔥  \n",
      "\n",
      "Room: f, Percept: Safe, Action: None\n",
      "\n",
      "Current Building Status:\n",
      "✅  ✅  ✅  \n",
      "✅  ✅  ✅  \n",
      "✅  ✅  🔥  \n",
      "\n",
      "Room: g, Percept: Safe, Action: None\n",
      "\n",
      "Current Building Status:\n",
      "✅  ✅  ✅  \n",
      "✅  ✅  ✅  \n",
      "✅  ✅  🔥  \n",
      "\n",
      "Room: h, Percept: Safe, Action: None\n",
      "\n",
      "Current Building Status:\n",
      "✅  ✅  ✅  \n",
      "✅  ✅  ✅  \n",
      "✅  ✅  🔥  \n",
      "\n",
      "Fire extinguished in room j\n",
      "Room: j, Percept: Fire, Action: None\n",
      "\n",
      "Current Building Status:\n",
      "✅  ✅  ✅  \n",
      "✅  ✅  ✅  \n",
      "✅  ✅  ✅  \n",
      "\n"
     ]
    }
   ],
   "source": [
    "agent = Agent()\n",
    "env = Environment()\n",
    "\n",
    "runAgent(agent, env)"
   ]
  }
 ],
 "metadata": {
  "kernelspec": {
   "display_name": "Python 3",
   "language": "python",
   "name": "python3"
  },
  "language_info": {
   "codemirror_mode": {
    "name": "ipython",
    "version": 3
   },
   "file_extension": ".py",
   "mimetype": "text/x-python",
   "name": "python",
   "nbconvert_exporter": "python",
   "pygments_lexer": "ipython3",
   "version": "3.13.0"
  }
 },
 "nbformat": 4,
 "nbformat_minor": 2
}
